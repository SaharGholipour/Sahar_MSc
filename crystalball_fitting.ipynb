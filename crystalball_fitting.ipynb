{
 "cells": [
  {
   "cell_type": "markdown",
   "id": "d1e3fab8",
   "metadata": {},
   "source": [
    "# Fitting"
   ]
  },
  {
   "cell_type": "code",
   "execution_count": 16,
   "id": "b38de567",
   "metadata": {},
   "outputs": [],
   "source": [
    "import uproot\n",
    "import matplotlib.pyplot as plt\n",
    "import pandas as pd\n",
    "import numpy as np\n",
    "\n",
    "# fitting\n",
    "from scipy.optimize import curve_fit\n",
    "from scipy.stats import crystalball\n",
    "\n",
    "%matplotlib inline\n",
    "\n",
    "form_title = {'family': 'helvetica', 'color': 'black', 'size': 15}\n",
    "form_label = {'family': 'helvetica', 'color': 'black', 'size': 20}"
   ]
  },
  {
   "cell_type": "code",
   "execution_count": 2,
   "id": "6de1b822",
   "metadata": {
    "collapsed": true
   },
   "outputs": [
    {
     "data": {
      "text/html": [
       "<div>\n",
       "<style scoped>\n",
       "    .dataframe tbody tr th:only-of-type {\n",
       "        vertical-align: middle;\n",
       "    }\n",
       "\n",
       "    .dataframe tbody tr th {\n",
       "        vertical-align: top;\n",
       "    }\n",
       "\n",
       "    .dataframe thead th {\n",
       "        text-align: right;\n",
       "    }\n",
       "</style>\n",
       "<table border=\"1\" class=\"dataframe\">\n",
       "  <thead>\n",
       "    <tr style=\"text-align: right;\">\n",
       "      <th></th>\n",
       "      <th></th>\n",
       "      <th>__experiment__</th>\n",
       "      <th>__run__</th>\n",
       "      <th>__event__</th>\n",
       "      <th>__production__</th>\n",
       "      <th>__candidate__</th>\n",
       "      <th>__ncandidates__</th>\n",
       "      <th>__weight__</th>\n",
       "      <th>Ecms</th>\n",
       "      <th>aBminusMode</th>\n",
       "      <th>aBplusMode</th>\n",
       "      <th>...</th>\n",
       "      <th>MCGenPDG_45</th>\n",
       "      <th>MCGenMothIndex_45</th>\n",
       "      <th>MCGenPDG_46</th>\n",
       "      <th>MCGenMothIndex_46</th>\n",
       "      <th>MCGenPDG_47</th>\n",
       "      <th>MCGenMothIndex_47</th>\n",
       "      <th>MCGenPDG_48</th>\n",
       "      <th>MCGenMothIndex_48</th>\n",
       "      <th>MCGenPDG_49</th>\n",
       "      <th>MCGenMothIndex_49</th>\n",
       "    </tr>\n",
       "  </thead>\n",
       "  <tbody>\n",
       "    <tr>\n",
       "      <th rowspan=\"5\" valign=\"top\">charged</th>\n",
       "      <th>0</th>\n",
       "      <td>1003</td>\n",
       "      <td>0</td>\n",
       "      <td>8640457</td>\n",
       "      <td>24816</td>\n",
       "      <td>0</td>\n",
       "      <td>3</td>\n",
       "      <td>1.0</td>\n",
       "      <td>10.579557</td>\n",
       "      <td>-101002.0</td>\n",
       "      <td>1021.0</td>\n",
       "      <td>...</td>\n",
       "      <td>NaN</td>\n",
       "      <td>NaN</td>\n",
       "      <td>NaN</td>\n",
       "      <td>NaN</td>\n",
       "      <td>NaN</td>\n",
       "      <td>NaN</td>\n",
       "      <td>NaN</td>\n",
       "      <td>NaN</td>\n",
       "      <td>NaN</td>\n",
       "      <td>NaN</td>\n",
       "    </tr>\n",
       "    <tr>\n",
       "      <th>1</th>\n",
       "      <td>1003</td>\n",
       "      <td>0</td>\n",
       "      <td>8640457</td>\n",
       "      <td>24816</td>\n",
       "      <td>1</td>\n",
       "      <td>3</td>\n",
       "      <td>1.0</td>\n",
       "      <td>10.579557</td>\n",
       "      <td>-101002.0</td>\n",
       "      <td>1021.0</td>\n",
       "      <td>...</td>\n",
       "      <td>NaN</td>\n",
       "      <td>NaN</td>\n",
       "      <td>NaN</td>\n",
       "      <td>NaN</td>\n",
       "      <td>NaN</td>\n",
       "      <td>NaN</td>\n",
       "      <td>NaN</td>\n",
       "      <td>NaN</td>\n",
       "      <td>NaN</td>\n",
       "      <td>NaN</td>\n",
       "    </tr>\n",
       "    <tr>\n",
       "      <th>2</th>\n",
       "      <td>1003</td>\n",
       "      <td>0</td>\n",
       "      <td>8640457</td>\n",
       "      <td>24816</td>\n",
       "      <td>2</td>\n",
       "      <td>3</td>\n",
       "      <td>1.0</td>\n",
       "      <td>10.579557</td>\n",
       "      <td>-101002.0</td>\n",
       "      <td>1021.0</td>\n",
       "      <td>...</td>\n",
       "      <td>NaN</td>\n",
       "      <td>NaN</td>\n",
       "      <td>NaN</td>\n",
       "      <td>NaN</td>\n",
       "      <td>NaN</td>\n",
       "      <td>NaN</td>\n",
       "      <td>NaN</td>\n",
       "      <td>NaN</td>\n",
       "      <td>NaN</td>\n",
       "      <td>NaN</td>\n",
       "    </tr>\n",
       "    <tr>\n",
       "      <th>12</th>\n",
       "      <td>1003</td>\n",
       "      <td>0</td>\n",
       "      <td>12624230</td>\n",
       "      <td>24816</td>\n",
       "      <td>0</td>\n",
       "      <td>9</td>\n",
       "      <td>1.0</td>\n",
       "      <td>10.579557</td>\n",
       "      <td>-101001.0</td>\n",
       "      <td>1022.0</td>\n",
       "      <td>...</td>\n",
       "      <td>NaN</td>\n",
       "      <td>NaN</td>\n",
       "      <td>NaN</td>\n",
       "      <td>NaN</td>\n",
       "      <td>NaN</td>\n",
       "      <td>NaN</td>\n",
       "      <td>NaN</td>\n",
       "      <td>NaN</td>\n",
       "      <td>NaN</td>\n",
       "      <td>NaN</td>\n",
       "    </tr>\n",
       "    <tr>\n",
       "      <th>13</th>\n",
       "      <td>1003</td>\n",
       "      <td>0</td>\n",
       "      <td>12624230</td>\n",
       "      <td>24816</td>\n",
       "      <td>1</td>\n",
       "      <td>9</td>\n",
       "      <td>1.0</td>\n",
       "      <td>10.579557</td>\n",
       "      <td>-101001.0</td>\n",
       "      <td>1022.0</td>\n",
       "      <td>...</td>\n",
       "      <td>NaN</td>\n",
       "      <td>NaN</td>\n",
       "      <td>NaN</td>\n",
       "      <td>NaN</td>\n",
       "      <td>NaN</td>\n",
       "      <td>NaN</td>\n",
       "      <td>NaN</td>\n",
       "      <td>NaN</td>\n",
       "      <td>NaN</td>\n",
       "      <td>NaN</td>\n",
       "    </tr>\n",
       "    <tr>\n",
       "      <th>...</th>\n",
       "      <th>...</th>\n",
       "      <td>...</td>\n",
       "      <td>...</td>\n",
       "      <td>...</td>\n",
       "      <td>...</td>\n",
       "      <td>...</td>\n",
       "      <td>...</td>\n",
       "      <td>...</td>\n",
       "      <td>...</td>\n",
       "      <td>...</td>\n",
       "      <td>...</td>\n",
       "      <td>...</td>\n",
       "      <td>...</td>\n",
       "      <td>...</td>\n",
       "      <td>...</td>\n",
       "      <td>...</td>\n",
       "      <td>...</td>\n",
       "      <td>...</td>\n",
       "      <td>...</td>\n",
       "      <td>...</td>\n",
       "      <td>...</td>\n",
       "      <td>...</td>\n",
       "    </tr>\n",
       "    <tr>\n",
       "      <th rowspan=\"5\" valign=\"top\">mixed</th>\n",
       "      <th>431043</th>\n",
       "      <td>1003</td>\n",
       "      <td>0</td>\n",
       "      <td>308753</td>\n",
       "      <td>25056</td>\n",
       "      <td>7</td>\n",
       "      <td>9</td>\n",
       "      <td>1.0</td>\n",
       "      <td>10.579557</td>\n",
       "      <td>-99.0</td>\n",
       "      <td>-99.0</td>\n",
       "      <td>...</td>\n",
       "      <td>NaN</td>\n",
       "      <td>NaN</td>\n",
       "      <td>NaN</td>\n",
       "      <td>NaN</td>\n",
       "      <td>NaN</td>\n",
       "      <td>NaN</td>\n",
       "      <td>NaN</td>\n",
       "      <td>NaN</td>\n",
       "      <td>NaN</td>\n",
       "      <td>NaN</td>\n",
       "    </tr>\n",
       "    <tr>\n",
       "      <th>431044</th>\n",
       "      <td>1003</td>\n",
       "      <td>0</td>\n",
       "      <td>308753</td>\n",
       "      <td>25056</td>\n",
       "      <td>8</td>\n",
       "      <td>9</td>\n",
       "      <td>1.0</td>\n",
       "      <td>10.579557</td>\n",
       "      <td>-99.0</td>\n",
       "      <td>-99.0</td>\n",
       "      <td>...</td>\n",
       "      <td>NaN</td>\n",
       "      <td>NaN</td>\n",
       "      <td>NaN</td>\n",
       "      <td>NaN</td>\n",
       "      <td>NaN</td>\n",
       "      <td>NaN</td>\n",
       "      <td>NaN</td>\n",
       "      <td>NaN</td>\n",
       "      <td>NaN</td>\n",
       "      <td>NaN</td>\n",
       "    </tr>\n",
       "    <tr>\n",
       "      <th>431045</th>\n",
       "      <td>1003</td>\n",
       "      <td>0</td>\n",
       "      <td>1175564</td>\n",
       "      <td>25056</td>\n",
       "      <td>0</td>\n",
       "      <td>9</td>\n",
       "      <td>1.0</td>\n",
       "      <td>10.579557</td>\n",
       "      <td>-99.0</td>\n",
       "      <td>-99.0</td>\n",
       "      <td>...</td>\n",
       "      <td>NaN</td>\n",
       "      <td>NaN</td>\n",
       "      <td>NaN</td>\n",
       "      <td>NaN</td>\n",
       "      <td>NaN</td>\n",
       "      <td>NaN</td>\n",
       "      <td>NaN</td>\n",
       "      <td>NaN</td>\n",
       "      <td>NaN</td>\n",
       "      <td>NaN</td>\n",
       "    </tr>\n",
       "    <tr>\n",
       "      <th>431046</th>\n",
       "      <td>1003</td>\n",
       "      <td>0</td>\n",
       "      <td>1175564</td>\n",
       "      <td>25056</td>\n",
       "      <td>1</td>\n",
       "      <td>9</td>\n",
       "      <td>1.0</td>\n",
       "      <td>10.579557</td>\n",
       "      <td>-99.0</td>\n",
       "      <td>-99.0</td>\n",
       "      <td>...</td>\n",
       "      <td>NaN</td>\n",
       "      <td>NaN</td>\n",
       "      <td>NaN</td>\n",
       "      <td>NaN</td>\n",
       "      <td>NaN</td>\n",
       "      <td>NaN</td>\n",
       "      <td>NaN</td>\n",
       "      <td>NaN</td>\n",
       "      <td>NaN</td>\n",
       "      <td>NaN</td>\n",
       "    </tr>\n",
       "    <tr>\n",
       "      <th>431048</th>\n",
       "      <td>1003</td>\n",
       "      <td>0</td>\n",
       "      <td>1175564</td>\n",
       "      <td>25056</td>\n",
       "      <td>3</td>\n",
       "      <td>9</td>\n",
       "      <td>1.0</td>\n",
       "      <td>10.579557</td>\n",
       "      <td>-99.0</td>\n",
       "      <td>-99.0</td>\n",
       "      <td>...</td>\n",
       "      <td>NaN</td>\n",
       "      <td>NaN</td>\n",
       "      <td>NaN</td>\n",
       "      <td>NaN</td>\n",
       "      <td>NaN</td>\n",
       "      <td>NaN</td>\n",
       "      <td>NaN</td>\n",
       "      <td>NaN</td>\n",
       "      <td>NaN</td>\n",
       "      <td>NaN</td>\n",
       "    </tr>\n",
       "  </tbody>\n",
       "</table>\n",
       "<p>515952 rows × 907 columns</p>\n",
       "</div>"
      ],
      "text/plain": [
       "                __experiment__  __run__  __event__  __production__  \\\n",
       "charged 0                 1003        0    8640457           24816   \n",
       "        1                 1003        0    8640457           24816   \n",
       "        2                 1003        0    8640457           24816   \n",
       "        12                1003        0   12624230           24816   \n",
       "        13                1003        0   12624230           24816   \n",
       "...                        ...      ...        ...             ...   \n",
       "mixed   431043            1003        0     308753           25056   \n",
       "        431044            1003        0     308753           25056   \n",
       "        431045            1003        0    1175564           25056   \n",
       "        431046            1003        0    1175564           25056   \n",
       "        431048            1003        0    1175564           25056   \n",
       "\n",
       "                __candidate__  __ncandidates__  __weight__       Ecms  \\\n",
       "charged 0                   0                3         1.0  10.579557   \n",
       "        1                   1                3         1.0  10.579557   \n",
       "        2                   2                3         1.0  10.579557   \n",
       "        12                  0                9         1.0  10.579557   \n",
       "        13                  1                9         1.0  10.579557   \n",
       "...                       ...              ...         ...        ...   \n",
       "mixed   431043              7                9         1.0  10.579557   \n",
       "        431044              8                9         1.0  10.579557   \n",
       "        431045              0                9         1.0  10.579557   \n",
       "        431046              1                9         1.0  10.579557   \n",
       "        431048              3                9         1.0  10.579557   \n",
       "\n",
       "                aBminusMode  aBplusMode  ...  MCGenPDG_45  MCGenMothIndex_45  \\\n",
       "charged 0         -101002.0      1021.0  ...          NaN                NaN   \n",
       "        1         -101002.0      1021.0  ...          NaN                NaN   \n",
       "        2         -101002.0      1021.0  ...          NaN                NaN   \n",
       "        12        -101001.0      1022.0  ...          NaN                NaN   \n",
       "        13        -101001.0      1022.0  ...          NaN                NaN   \n",
       "...                     ...         ...  ...          ...                ...   \n",
       "mixed   431043        -99.0       -99.0  ...          NaN                NaN   \n",
       "        431044        -99.0       -99.0  ...          NaN                NaN   \n",
       "        431045        -99.0       -99.0  ...          NaN                NaN   \n",
       "        431046        -99.0       -99.0  ...          NaN                NaN   \n",
       "        431048        -99.0       -99.0  ...          NaN                NaN   \n",
       "\n",
       "                MCGenPDG_46  MCGenMothIndex_46  MCGenPDG_47  \\\n",
       "charged 0               NaN                NaN          NaN   \n",
       "        1               NaN                NaN          NaN   \n",
       "        2               NaN                NaN          NaN   \n",
       "        12              NaN                NaN          NaN   \n",
       "        13              NaN                NaN          NaN   \n",
       "...                     ...                ...          ...   \n",
       "mixed   431043          NaN                NaN          NaN   \n",
       "        431044          NaN                NaN          NaN   \n",
       "        431045          NaN                NaN          NaN   \n",
       "        431046          NaN                NaN          NaN   \n",
       "        431048          NaN                NaN          NaN   \n",
       "\n",
       "                MCGenMothIndex_47  MCGenPDG_48  MCGenMothIndex_48  \\\n",
       "charged 0                     NaN          NaN                NaN   \n",
       "        1                     NaN          NaN                NaN   \n",
       "        2                     NaN          NaN                NaN   \n",
       "        12                    NaN          NaN                NaN   \n",
       "        13                    NaN          NaN                NaN   \n",
       "...                           ...          ...                ...   \n",
       "mixed   431043                NaN          NaN                NaN   \n",
       "        431044                NaN          NaN                NaN   \n",
       "        431045                NaN          NaN                NaN   \n",
       "        431046                NaN          NaN                NaN   \n",
       "        431048                NaN          NaN                NaN   \n",
       "\n",
       "                MCGenPDG_49  MCGenMothIndex_49  \n",
       "charged 0               NaN                NaN  \n",
       "        1               NaN                NaN  \n",
       "        2               NaN                NaN  \n",
       "        12              NaN                NaN  \n",
       "        13              NaN                NaN  \n",
       "...                     ...                ...  \n",
       "mixed   431043          NaN                NaN  \n",
       "        431044          NaN                NaN  \n",
       "        431045          NaN                NaN  \n",
       "        431046          NaN                NaN  \n",
       "        431048          NaN                NaN  \n",
       "\n",
       "[515952 rows x 907 columns]"
      ]
     },
     "execution_count": 2,
     "metadata": {},
     "output_type": "execute_result"
    }
   ],
   "source": [
    "data = pd.read_pickle('semileptonic_Bdecay_data.pkl')\n",
    "data"
   ]
  },
  {
   "cell_type": "code",
   "execution_count": 3,
   "id": "2b9703c8",
   "metadata": {},
   "outputs": [
    {
     "data": {
      "text/plain": [
       "([1601, 1701, 2601, 2701, 1600, 1700, 2600, 2700],\n",
       " [1401, 1501, 2401, 2501, 1400, 1500, 2400, 2500])"
      ]
     },
     "execution_count": 3,
     "metadata": {},
     "output_type": "execute_result"
    }
   ],
   "source": [
    "# reconstructed eta modes plus etaSB\n",
    "l_eta_Bp = [1600,1700,2600,2700]\n",
    "eta_Bp = list(i+1 for i in l_eta_Bp) + l_eta_Bp\n",
    "\n",
    "l_eta_B0 = [1400,1500,2400,2500]\n",
    "eta_B0 = list(i+1 for i in l_eta_B0) + l_eta_B0\n",
    "eta_Bp, eta_B0"
   ]
  },
  {
   "cell_type": "code",
   "execution_count": 5,
   "id": "587097c4",
   "metadata": {},
   "outputs": [],
   "source": [
    "# eta and etaSB modes reconstruction\n",
    "df_eta_Bp = data.loc['charged'].query(\n",
    "    f'((B0_decayModeID=={eta_Bp} & B1_decayModeID<500) | (B1_decayModeID=={eta_Bp} & B0_decayModeID<500))'\n",
    ")\n",
    "\n",
    "df_eta_B0 = data.loc['mixed'].query(\n",
    "    f'((B0_decayModeID=={eta_B0} & B1_decayModeID<500) | (B1_decayModeID=={eta_B0} & B0_decayModeID<500))'\n",
    ")"
   ]
  },
  {
   "cell_type": "code",
   "execution_count": 6,
   "id": "02eede5d",
   "metadata": {},
   "outputs": [],
   "source": [
    "# eta\n",
    "# splitting signal and background ****charged B****\n",
    "\n",
    "# background\n",
    "dfp_bkg = df_eta_Bp.drop(\n",
    "    df_eta_Bp[\n",
    "        ( ((df_eta_Bp['aBplusMode']%10000).isin([1019,1020,1039,1040])) | (abs(df_eta_Bp['aBminusMode'])%10000).isin([1019,1020,1039,1040]) )\n",
    "        &( (df_eta_Bp['pi4_B0_isSignal']==1) | (df_eta_Bp['pi4_B1_isSignal']==1) ) \n",
    "    ].index, inplace=False\n",
    ")\n",
    "\n",
    "# splitting peaking and combinatoprial background\n",
    "dfp_pkbkg = dfp_bkg[\n",
    "    ( (~(dfp_bkg['aBplusMode']%10000).isin([1019,1020,1039,1040])) & (~(abs(dfp_bkg['aBminusMode'])%10000).isin([1019,1020,1039,1040])) )\n",
    "    &( (dfp_bkg['pi4_B0_isSignal']==1) | (dfp_bkg['pi4_B1_isSignal']==1) ) \n",
    "]\n",
    "\n",
    "dfp_combkg = dfp_bkg.drop(\n",
    "    dfp_bkg[\n",
    "        ( (~(dfp_bkg['aBplusMode']%10000).isin([1019,1020,1039,1040])) & (~(abs(dfp_bkg['aBminusMode'])%10000).isin([1019,1020,1039,1040])) )\n",
    "        &( (dfp_bkg['pi4_B0_isSignal']==1) | (dfp_bkg['pi4_B1_isSignal']==1) )\n",
    "    ].index\n",
    ")\n",
    "\n",
    "# signal\n",
    "dfp_sig = df_eta_Bp[\n",
    "    ( ((df_eta_Bp['aBplusMode']%10000).isin([1019,1020,1039,1040])) | (abs(df_eta_Bp['aBminusMode'])%10000).isin([1019,1020,1039,1040]) )\n",
    "    &( (df_eta_Bp['pi4_B0_isSignal']==1) | (df_eta_Bp['pi4_B1_isSignal']==1) ) \n",
    "]\n",
    "\n",
    "\n",
    "dfp = pd.concat([dfp_sig, dfp_pkbkg, dfp_combkg], keys=['signal', 'peaking background', 'combinatorial background'])"
   ]
  },
  {
   "cell_type": "code",
   "execution_count": 7,
   "id": "4da6f7eb",
   "metadata": {},
   "outputs": [],
   "source": [
    "# eta\n",
    "# splitting signal and background ****mixed B****\n",
    "\n",
    "# background\n",
    "df0_bkg = df_eta_B0.drop(\n",
    "    df_eta_B0[\n",
    "        ( ((df_eta_B0['aB0Mode']%10000).isin([1017,1018,1035,1036])) | (abs(df_eta_B0['aBbar0Mode'])%10000).isin([1017,1018,1035,1036]) )\n",
    "        &( (df_eta_B0['pi4_B0_isSignal']==1) | (df_eta_B0['pi4_B1_isSignal']==1) ) \n",
    "    ].index, inplace=False\n",
    ")\n",
    "\n",
    "# solitting peaking and combinatoprial background\n",
    "df0_pkbkg = df0_bkg[\n",
    "    ( (~(df0_bkg['aB0Mode']%10000).isin([1017,1018,1035,1036])) & (~(abs(df0_bkg['aBbar0Mode'])%10000).isin([1017,1018,1035,1036])) )\n",
    "    &( (df0_bkg['pi4_B0_isSignal']==1) | (df0_bkg['pi4_B1_isSignal']==1) ) \n",
    "]\n",
    "\n",
    "df0_combkg = df0_bkg.drop(\n",
    "    df0_bkg[\n",
    "        ( (~(df0_bkg['aB0Mode']%10000).isin([1017,1018,1035,1036])) & (~(abs(df0_bkg['aBbar0Mode'])%10000).isin([1017,1018,1035,1036])) )\n",
    "        &( (df0_bkg['pi4_B0_isSignal']==1) | (df0_bkg['pi4_B1_isSignal']==1) )\n",
    "    ].index\n",
    ")\n",
    "\n",
    "# signal\n",
    "df0_sig = df_eta_B0[\n",
    "    ( ((df_eta_B0['aB0Mode']%10000).isin([1017,1018,1035,1036])) | (abs(df_eta_B0['aBbar0Mode'])%10000).isin([1017,1018,1035,1036]) )\n",
    "    &( (df_eta_B0['pi4_B0_isSignal']==1) | (df_eta_B0['pi4_B1_isSignal']==1) ) \n",
    "]\n",
    "\n",
    "df0 = pd.concat([df0_sig, df0_pkbkg, df0_combkg], keys=['signal', 'peaking background', 'combinatorial background'])"
   ]
  },
  {
   "cell_type": "code",
   "execution_count": 8,
   "id": "99be31ff",
   "metadata": {},
   "outputs": [],
   "source": [
    "# combining the charged and mixed data set\n",
    "# eta\n",
    "df = pd.concat([dfp,df0])"
   ]
  },
  {
   "cell_type": "code",
   "execution_count": 9,
   "id": "7922aaa4",
   "metadata": {},
   "outputs": [],
   "source": [
    "# plotting the invariant mass of eta for both signal and background\n",
    "# Note: signal is the combination of signal and peaking background\n",
    "\n",
    "# Invariant mass of eta: signal + peaking background of both B0 and B1\n",
    "\n",
    "# eta\n",
    "eta_sig_InvM = pd.concat(\n",
    "    [\n",
    "        df.loc['signal']['pi4_B0_InvM'],df.loc['signal']['pi4_B1_InvM'],\n",
    "        df.loc['peaking background']['pi4_B0_InvM'],df.loc['peaking background']['pi4_B1_InvM']\n",
    "    ]\n",
    ")\n",
    "# Invariant mass of eta: combinatorial background of both B0 and B1\n",
    "eta_bkg_InvM = pd.concat([df.loc['combinatorial background']['pi4_B0_InvM'],df.loc['combinatorial background']['pi4_B1_InvM']])"
   ]
  },
  {
   "cell_type": "code",
   "execution_count": 14,
   "id": "33b17289",
   "metadata": {},
   "outputs": [
    {
     "data": {
      "text/plain": [
       "<matplotlib.legend.Legend at 0x134404220>"
      ]
     },
     "execution_count": 14,
     "metadata": {},
     "output_type": "execute_result"
    },
    {
     "data": {
      "image/png": "[encoded data removed]",
      "text/plain": [
       "<Figure size 864x360 with 1 Axes>"
      ]
     },
     "metadata": {
      "needs_background": "light"
     },
     "output_type": "display_data"
    }
   ],
   "source": [
    "plt.figure(figsize=(12, 5))\n",
    "bin_value, bin_edge, _ = plt.hist([eta_bkg_InvM,eta_sig_InvM],label=['background','signal'], histtype='barstacked',density=True, bins=20)\n",
    "plt.xlabel('Invariant mass of $\\eta$', fontdict=form_label)\n",
    "plt.legend(fontsize='20')"
   ]
  },
  {
   "cell_type": "markdown",
   "id": "62d21ebb",
   "metadata": {},
   "source": [
    "## Using curve_fit"
   ]
  },
  {
   "cell_type": "code",
   "execution_count": 86,
   "id": "7809cd4a",
   "metadata": {},
   "outputs": [],
   "source": [
    "# exponential distribution\n",
    "def exp_curve(x, a, b, c):\n",
    "    return ( a * np.exp(b * x) + c )"
   ]
  },
  {
   "cell_type": "code",
   "execution_count": 97,
   "id": "c7a7ae92",
   "metadata": {},
   "outputs": [
    {
     "name": "stdout",
     "output_type": "stream",
     "text": [
      "157.0 1557.0 13.35185719564416\n"
     ]
    },
    {
     "data": {
      "text/plain": [
       "<matplotlib.legend.Legend at 0x13d845d90>"
      ]
     },
     "execution_count": 97,
     "metadata": {},
     "output_type": "execute_result"
    },
    {
     "data": {
      "image/png": "[encoded data removed]",
      "text/plain": [
       "<Figure size 864x360 with 1 Axes>"
      ]
     },
     "metadata": {
      "needs_background": "light"
     },
     "output_type": "display_data"
    }
   ],
   "source": [
    "plt.figure(figsize=(12,5))\n",
    "data = eta_sig_InvM.dropna()\n",
    "\n",
    "# Create a histogram of the data\n",
    "counts, edges, _ = plt.hist(data, bins=20, density=True, label='Signal')\n",
    "\n",
    "# Define the Crystal Ball PDF function\n",
    "def crystalball_pdf(x, beta, m, norm):\n",
    "    return norm * crystalball.pdf(x, beta, m)\n",
    "\n",
    "# Find the optimal parameters for the PDF using curve_fit\n",
    "x_data = (edges[:-1] + edges[1:]) / 2\n",
    "y_data = counts\n",
    "popt, pcov = curve_fit(crystalball_pdf, x_data, y_data, p0=[157,1557, 13])\n",
    "beta_fit, m_fit, norm_fit = popt\n",
    "print(*popt)\n",
    "\n",
    "# Plot the histogram and fitted PDF\n",
    "x_vals = np.linspace(np.min(edges), np.max(edges), 20)\n",
    "plt.plot(x_vals, crystalball_pdf(x_vals, *popt), 'r-', label='Fitted PDF')\n",
    "plt.xlabel('Invariant mass of $\\eta$', fontdict=form_label)\n",
    "plt.legend(fontsize='20')"
   ]
  },
  {
   "cell_type": "markdown",
   "id": "079cd366",
   "metadata": {},
   "source": [
    "<font color='red'>beta:<font color='blue'> the value of the tail parameter longer tail on the left (negative skew), a smaller value of beta may be appropriate, longer tail on the right (positive skew), a larger value of beta may be appropriate.\n",
    "\n",
    "<font color='red'>m<font color='blue'> : the value of the shape parameter based on the kurtosis of the data. If the data has heavier tails and a more peaked distribution (higher kurtosis), a larger value of m may be appropriate."
   ]
  },
  {
   "cell_type": "code",
   "execution_count": 104,
   "id": "a177f979",
   "metadata": {
    "scrolled": false
   },
   "outputs": [
    {
     "name": "stdout",
     "output_type": "stream",
     "text": [
      "optimal parameters:  [1.57430191e+02 1.55743743e+03 2.63385790e+03 5.40981176e-01\n",
      " 1.82348307e-02]\n"
     ]
    },
    {
     "name": "stderr",
     "output_type": "stream",
     "text": [
      "/Users/sahargholipour/opt/anaconda3/lib/python3.9/site-packages/scipy/optimize/minpack.py:833: OptimizeWarning: Covariance of the parameters could not be estimated\n",
      "  warnings.warn('Covariance of the parameters could not be estimated',\n"
     ]
    },
    {
     "data": {
      "text/plain": [
       "<matplotlib.legend.Legend at 0x13c2b17f0>"
      ]
     },
     "execution_count": 104,
     "metadata": {},
     "output_type": "execute_result"
    },
    {
     "data": {
      "image/png": "[encoded data removed]",
      "text/plain": [
       "<Figure size 864x360 with 1 Axes>"
      ]
     },
     "metadata": {
      "needs_background": "light"
     },
     "output_type": "display_data"
    }
   ],
   "source": [
    "plt.figure(figsize=(12,5))\n",
    "# data invariant mass of eta signal (signal + peaking background)\n",
    "data = eta_sig_InvM.dropna()\n",
    "\n",
    "# plot the histogram\n",
    "counts, edges, _ = plt.hist(data, bins=20, density=True, label='Signal')\n",
    "# getting the middle of each bin to make length of counts and edges the same\n",
    "x_data = (edges[:-1] + edges[1:]) / 2\n",
    "y_data = counts\n",
    "\n",
    "# estimate the location and the scale of the distribution which are mean and standard deviation respectively\n",
    "loc = np.mean(data)\n",
    "scale = np.std(data)\n",
    "\n",
    "def crystalball_f(x, beta, m, norm, mu, sigma):\n",
    "    return norm * crystalball.pdf((x - mu) / sigma, beta, m) * sigma + mu\n",
    "\n",
    "# Initial parameter estimates\n",
    "beta0 = 2.0\n",
    "m0 = 3.0\n",
    "norm0 = 1.0\n",
    "mu0 = loc\n",
    "sigma0 = scale\n",
    "\n",
    "p0 = [beta0, m0, norm0, mu0, sigma0]\n",
    "\n",
    "# Fit Crystal Ball function to data\n",
    "params, pcov = curve_fit(crystalball_f, x_data, y_data, p0)\n",
    "beta_eta, m_eta , norm_eta, mu_eta, sigma_eta = params\n",
    "print('optimal parameters: ',params)\n",
    "\n",
    "\n",
    "# Plot the histogram and fitted PDF\n",
    "x_vals = np.linspace(np.min(edges), np.max(edges), 200)\n",
    "plt.plot(x_vals, crystalball_f(x_vals, *params), 'r-', label='Fitted PDF')\n",
    "plt.xlabel('Invariant mass of $\\eta$', fontdict=form_label)\n",
    "plt.legend(fontsize='20')"
   ]
  },
  {
   "cell_type": "code",
   "execution_count": 82,
   "id": "c5e1bb78",
   "metadata": {},
   "outputs": [],
   "source": [
    "y = lambda x : crystalball_f(x, beta=params[0],m=params[1],norm=params[2],mu=params[3],sigma=params[4])"
   ]
  },
  {
   "cell_type": "code",
   "execution_count": 83,
   "id": "9ee00c96",
   "metadata": {
    "scrolled": true
   },
   "outputs": [
    {
     "name": "stdout",
     "output_type": "stream",
     "text": [
      "eta: \n",
      "The area under the pdf function:  0.9937013382005413\n",
      "The area of the histogram:  1.0000000000000016\n"
     ]
    }
   ],
   "source": [
    "# checking if the number of enteries in pdf function and the histogram are the same\n",
    "import scipy.integrate as integrate\n",
    "\n",
    "print('eta: \\nThe area under the pdf function: ',integrate.quad(y,np.min(x_vals), np.max(x_vals))[0])\n",
    "# get the width of each bin\n",
    "bin_width = edges[1] - edges[0]\n",
    "# sum over number in each bin and mult by bin width, which can be factored out\n",
    "integral = bin_width * sum(counts[:])\n",
    "print('The area of the histogram: ', integral)"
   ]
  },
  {
   "cell_type": "code",
   "execution_count": 85,
   "id": "e4436b8e",
   "metadata": {},
   "outputs": [
    {
     "name": "stdout",
     "output_type": "stream",
     "text": [
      "[[inf inf inf]\n",
      " [inf inf inf]\n",
      " [inf inf inf]]\n"
     ]
    },
    {
     "data": {
      "image/png": "[encoded data removed]",
      "text/plain": [
       "<Figure size 432x288 with 2 Axes>"
      ]
     },
     "metadata": {
      "needs_background": "light"
     },
     "output_type": "display_data"
    }
   ],
   "source": [
    "# looking at the covariance matrix\n",
    "print(pcov)\n",
    "plt.imshow(np.log(np.abs(pcov)))\n",
    "plt.colorbar()\n",
    "plt.show()"
   ]
  },
  {
   "cell_type": "code",
   "execution_count": 73,
   "id": "115aaaca",
   "metadata": {},
   "outputs": [
    {
     "data": {
      "text/plain": [
       "array(nan)"
      ]
     },
     "execution_count": 73,
     "metadata": {},
     "output_type": "execute_result"
    }
   ],
   "source": [
    "mean, var, skew, kurt = crystalball.stats(2, 3, moments='mvsk')\n",
    "skew"
   ]
  },
  {
   "cell_type": "markdown",
   "id": "6583a50d",
   "metadata": {},
   "source": [
    "### Another way of fiding the best fit to the histogram (using the built_in function Fitter in Python)"
   ]
  },
  {
   "cell_type": "code",
   "execution_count": 44,
   "id": "952edd24",
   "metadata": {
    "scrolled": false
   },
   "outputs": [
    {
     "name": "stdout",
     "output_type": "stream",
     "text": [
      "[[0.01631044 0.01681985 0.01681985 ... 0.01633563 0.01709324 0.01709324]]\n"
     ]
    }
   ],
   "source": [
    "# normalizing the eta_sig_InM values\n",
    "from sklearn import preprocessing\n",
    "\n",
    "# removing nan\n",
    "cleanedList = [x for x in eta_sig_InvM if str(x) != 'nan']\n",
    "\n",
    "normalized_arr = preprocessing.normalize([cleanedList])\n",
    "print(normalized_arr)"
   ]
  },
  {
   "cell_type": "code",
   "execution_count": 98,
   "id": "fa1594ec",
   "metadata": {},
   "outputs": [
    {
     "name": "stderr",
     "output_type": "stream",
     "text": [
      "Fitting 1 distributions: 100%|████████████████████| 1/1 [00:00<00:00,  3.35it/s]"
     ]
    },
    {
     "name": "stdout",
     "output_type": "stream",
     "text": [
      "best fit:  {'crystalball': {'beta': 6.874131935657582, 'm': 5.52359400467754, 'loc': 0.5354250673682897, 'scale': 0.026659854875006953}}\n",
      "Identifying the parameters:  (6.874131935657582, 5.52359400467754, 0.5354250673682897, 0.026659854875006953)\n"
     ]
    },
    {
     "name": "stderr",
     "output_type": "stream",
     "text": [
      "\n"
     ]
    },
    {
     "data": {
      "image/png": "[encoded data removed]",
      "text/plain": [
       "<Figure size 864x360 with 1 Axes>"
      ]
     },
     "metadata": {
      "needs_background": "light"
     },
     "output_type": "display_data"
    }
   ],
   "source": [
    "import seaborn as sns\n",
    "from fitter import Fitter, get_common_distributions, get_distributions\n",
    "plt.figure(figsize=(12,5))\n",
    "\n",
    "f = Fitter(\n",
    "    cleanedList,\n",
    "    distributions=['crystalball']\n",
    ")\n",
    "\n",
    "f.fit()\n",
    "f.summary()\n",
    "print('best fit: ', f.get_best(method='bic'))\n",
    "print('Identifying the parameters: ', f.fitted_param[\"crystalball\"])"
   ]
  },
  {
   "cell_type": "code",
   "execution_count": 103,
   "id": "ef83d590",
   "metadata": {},
   "outputs": [
    {
     "name": "stdout",
     "output_type": "stream",
     "text": [
      "[ 5.65427011e+02 -9.60739205e+00  4.86521523e-01]\n"
     ]
    }
   ],
   "source": [
    "# background\n",
    "# Fit the function a * np.exp(b * x) + c to x_data and y_data\n",
    "popt, pcov = curve_fit(lambda x,a,b,c: a * np.exp(b * x) + c, x_data, bin_value[0])\n",
    "a_eta, b_eta, c_eta = popt\n",
    "print(popt)"
   ]
  },
  {
   "cell_type": "markdown",
   "id": "3e024726",
   "metadata": {},
   "source": [
    "## Signal and Background to fit"
   ]
  },
  {
   "cell_type": "code",
   "execution_count": 106,
   "id": "63d3a843",
   "metadata": {},
   "outputs": [
    {
     "name": "stdout",
     "output_type": "stream",
     "text": [
      "The area below the PDF function:  1.0025248501377284\n",
      "The area of the histogram:  0.990837633265723\n"
     ]
    },
    {
     "data": {
      "text/plain": [
       "<matplotlib.legend.Legend at 0x13cb9d310>"
      ]
     },
     "execution_count": 106,
     "metadata": {},
     "output_type": "execute_result"
    },
    {
     "data": {
      "image/png": "[encoded data removed]",
      "text/plain": [
       "<Figure size 1080x576 with 1 Axes>"
      ]
     },
     "metadata": {
      "needs_background": "light"
     },
     "output_type": "display_data"
    }
   ],
   "source": [
    "y_data = bin_value[0]+(bin_value[1]-bin_value[0])\n",
    "x_data = x_data\n",
    "\n",
    "# with two parameters\n",
    "popt, pcov = curve_fit(lambda x,p1,p2: p1*crystalball_f(x,beta_eta,m_eta,norm_eta,mu_eta,sigma_eta) + p2*exp_curve(x,a_eta,b_eta,c_eta), x_data, y_data)\n",
    "p1 = popt[0]\n",
    "p2 = popt[1]\n",
    "\n",
    "x_fitted = np.linspace(np.min(bin_edge), np.max(bin_edge))\n",
    "y_fitted = lambda x: p1*crystalball_f(x,beta_eta,m_eta,norm_eta,mu_eta,sigma_eta) + p2*exp_curve(x,a_eta,b_eta,c_eta)\n",
    "\n",
    "print('The area below the PDF function: ', integrate.quad(y_fitted,np.min(x_fitted),np.max(x_fitted))[0])\n",
    "print('The area of the histogram: ', bin_width*sum(y_data[:]))\n",
    "\n",
    "plt.figure(figsize=(15,8))\n",
    "plt.hist([eta_bkg_InvM, eta_sig_InvM], bins=20, histtype='barstacked', density=True, label=['Background', 'Signal'])\n",
    "plt.plot(x_fitted,y_fitted(x_fitted), color='fuchsia', linewidth=3, label='PDF with two parameters')\n",
    "plt.xlabel('Invariant mass of $\\eta$', fontdict=form_label)\n",
    "plt.legend(fontsize='20')"
   ]
  }
 ],
 "metadata": {
  "kernelspec": {
   "display_name": "Python 3 (ipykernel)",
   "language": "python",
   "name": "python3"
  },
  "language_info": {
   "codemirror_mode": {
    "name": "ipython",
    "version": 3
   },
   "file_extension": ".py",
   "mimetype": "text/x-python",
   "name": "python",
   "nbconvert_exporter": "python",
   "pygments_lexer": "ipython3",
   "version": "3.9.13"
  }
 },
 "nbformat": 4,
 "nbformat_minor": 5
}
