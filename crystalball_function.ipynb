{
 "cells": [
  {
   "cell_type": "code",
   "execution_count": 1,
   "id": "7b802a5c",
   "metadata": {},
   "outputs": [],
   "source": [
    "import numpy as np\n",
    "import scipy.integrate as integrate\n",
    "import matplotlib.pyplot as plt\n",
    "import math\n",
    "\n",
    "from numpy import exp as exp"
   ]
  },
  {
   "cell_type": "code",
   "execution_count": 98,
   "id": "6a1c5e07",
   "metadata": {},
   "outputs": [],
   "source": [
    "# crystalball function\n",
    "def crystal(x):\n",
    "#     x = x+0j # Prevent warnings...\n",
    "    a, n, mu, sig = [1, 2, 0.5, 0.02]\n",
    "    aa = abs(a)\n",
    "    A = (n/aa)**n * exp(- aa**2 / 2)\n",
    "    B = n/aa - aa\n",
    "    C = n*exp(- aa**2 / 2) / (aa * (n-1))\n",
    "    erf = (2/np.sqrt(np.pi)) * integrate.quad(lambda t: exp(- t**2), 0, aa/np.sqrt(2))[0]\n",
    "#     erf = math.erf(aa/np.sqrt(2))\n",
    "    D = np.sqrt(np.pi/2)*(1+erf)\n",
    "    N = 1./(sig * (C + D))\n",
    "    total = 0.*x\n",
    "    if (x-mu)/sig > -a:\n",
    "        total += N * exp(- ((x-mu)**2)/(2.*sig**2))\n",
    "    if (x-mu)/sig <= -a:\n",
    "        total += N * A * (B - (x-mu)/sig)**(-n)\n",
    "    try:\n",
    "        return total.real\n",
    "    except:\n",
    "        return total\n",
    "    return total\n",
    "\n",
    "# to avoid defining a for loop because I have if statement in my function\n",
    "crystal = np.vectorize(crystal)\n",
    "\n",
    "\n",
    "def crystal2(x):\n",
    "#     x = x+0j # Prevent warnings...\n",
    "    a, n, mu, sig = [1, 2, 0.5, 0.02]\n",
    "    aa = abs(a)\n",
    "    A = ((n/aa)**n) * exp(- aa**2 / 2)\n",
    "    B = n/aa - aa\n",
    "    C = n*exp(- aa**2 / 2) / (aa * (n-1))\n",
    "    erf = (2/np.sqrt(np.pi)) * integrate.quad(lambda t: exp(- t**2), 0, aa/np.sqrt(2))[0]\n",
    "#     erf = math.erf(aa/np.sqrt(2))\n",
    "    D = np.sqrt(np.pi/2)*(1+erf)\n",
    "    N = 1./(sig * (C + D))\n",
    "#     total = 0.*x\n",
    "    condition1 = lambda x: N * exp(- ((x-mu)**2)/(2.*sig**2))\n",
    "    condition2 = lambda x: N * A * (B - (x-mu)/sig)**(-n)\n",
    "    result = np.where((x - mu)/sig > (-a), condition1(x), condition2(x))\n",
    "\n",
    "    return result\n",
    "\n",
    "\n",
    "\n",
    "def crystal3(x):\n",
    "#     x = x+0j # Prevent warnings...\n",
    "    a, n, xb, sig = [1, 2, 1, 0.2]\n",
    "    if a < 0:\n",
    "        a = -a\n",
    "    if n < 0:\n",
    "        n = -n\n",
    "    aa = abs(a)\n",
    "    A = (n/aa)**n * exp(- aa**2 / 2)\n",
    "    B = n/aa - aa\n",
    "    C = n/aa / (n-1.) * exp(-aa**2/2.)\n",
    "    D = np.sqrt(np.pi/2.) * (1. + math.erf(aa/np.sqrt(2.)))\n",
    "    N = 1. / (sig * (C+D))\n",
    "    total = 0.*x\n",
    "    total += ((x-xb)/sig  > -a) * N * exp(- (x-xb)**2/(2.*sig**2))\n",
    "    total += ((x-xb)/sig <= -a) * N * A * (B - (x-xb)/sig)**(-n)\n",
    "    try:\n",
    "        return total.real\n",
    "    except:\n",
    "        return total\n",
    "    return total"
   ]
  },
  {
   "cell_type": "code",
   "execution_count": 99,
   "id": "d522e979",
   "metadata": {},
   "outputs": [
    {
     "data": {
      "text/plain": [
       "[<matplotlib.lines.Line2D at 0x1322de910>]"
      ]
     },
     "execution_count": 99,
     "metadata": {},
     "output_type": "execute_result"
    },
    {
     "data": {
      "image/png": "[encoded data removed]",
      "text/plain": [
       "<Figure size 720x360 with 1 Axes>"
      ]
     },
     "metadata": {
      "needs_background": "light"
     },
     "output_type": "display_data"
    }
   ],
   "source": [
    "plt.figure(figsize=(10,5))\n",
    "x_range = np.linspace(-2,2,10)\n",
    "plt.plot(x_range, crystal3(x_range))"
   ]
  },
  {
   "cell_type": "code",
   "execution_count": 115,
   "id": "99098cf0",
   "metadata": {},
   "outputs": [
    {
     "data": {
      "text/plain": [
       "(0.9999851789406482, 4.3928323255047604e-09)"
      ]
     },
     "execution_count": 115,
     "metadata": {},
     "output_type": "execute_result"
    }
   ],
   "source": [
    "integrate.quad(crystal3, -10000, 10000, points = np.linspace(-2, 2 ,20))"
   ]
  },
  {
   "cell_type": "markdown",
   "id": "dc9bb1ea",
   "metadata": {},
   "source": [
    "# crystalball function with the normalization <font color='red'>inside</font> of the function"
   ]
  },
  {
   "cell_type": "code",
   "execution_count": 116,
   "id": "c2549d82",
   "metadata": {},
   "outputs": [
    {
     "name": "stdout",
     "output_type": "stream",
     "text": [
      "(0.8782797984860791, 7.906066434146147e-09)\n"
     ]
    }
   ],
   "source": [
    "import numpy as np\n",
    "from scipy import integrate\n",
    "\n",
    "def crystal_ball(x, a, n, mu, sig):\n",
    "    aa = abs(a)\n",
    "    A = (n / aa) ** n * exp(- aa ** 2 / 2)\n",
    "    B = n / aa - aa\n",
    "    C = n * exp(- aa ** 2 / 2) / (aa * (n - 1))\n",
    "    erf = (2/np.sqrt(np.pi)) * integrate.quad(lambda t: exp(- t**2), 0, aa/np.sqrt(2))[0]\n",
    "    D = np.sqrt(np.pi / 2) * (1 + erf)\n",
    "    N = 1 / (sig * (C + D))\n",
    "    \n",
    "    if (x - mu) / sig > -a:\n",
    "        return N * exp(- (x - mu) ** 2 / (2 * sig ** 2))\n",
    "    else:\n",
    "        return N * A * (B - (x - mu) / sig) ** (-n)\n",
    "\n",
    "params = {'a': 1, 'n': 2, 'mu': 0.5, 'sig': 0.02}\n",
    "\n",
    "# defined sample ranges\n",
    "lower_limit = params['mu'] - 5 * params['sig']\n",
    "upper_limit = params['mu'] + 5 * params['sig']\n",
    "result = integrate.quad(lambda x: crystal_ball(x, **params), lower_limit, upper_limit)\n",
    "print(result)"
   ]
  },
  {
   "cell_type": "markdown",
   "id": "b1ef788c",
   "metadata": {},
   "source": [
    "# crystalball function witt the normalization <font color='red'>outside</font> of the function"
   ]
  },
  {
   "cell_type": "code",
   "execution_count": 118,
   "id": "c8ef39a7",
   "metadata": {},
   "outputs": [
    {
     "name": "stdout",
     "output_type": "stream",
     "text": [
      "(0.9999999999999999, 9.001762784853291e-09)\n"
     ]
    }
   ],
   "source": [
    "import numpy as np\n",
    "from scipy import integrate\n",
    "\n",
    "def crystal_ball_unnormalized(x, a, n, mu, sig):\n",
    "    aa = abs(a)\n",
    "    A = (n / aa) ** n * np.exp(- aa ** 2 / 2)\n",
    "    B = n / aa - aa\n",
    "    \n",
    "    if (x - mu) / sig > -a:\n",
    "        return np.exp(- (x - mu) ** 2 / (2 * sig ** 2))\n",
    "    else:\n",
    "        return A * (B - (x - mu) / sig) ** (-n)\n",
    "\n",
    "params = {'a': 1, 'n': 2, 'mu': 0.5, 'sig': 0.02}\n",
    "\n",
    "# defined sample ranges\n",
    "lower_limit = params['mu'] - 5 * params['sig']\n",
    "upper_limit = params['mu'] + 5 * params['sig']\n",
    "integral, _ = integrate.quad(lambda x: crystal_ball_unnormalized(x, **params), lower_limit, upper_limit)\n",
    "\n",
    "# Calculate the normalization factor\n",
    "normalization_factor = 1 / integral\n",
    "\n",
    "def crystal_ball_normalized(x):\n",
    "    return normalization_factor * crystal_ball_unnormalized(x, **params)\n",
    "\n",
    "# Integrate the normalized function over the same range\n",
    "result = integrate.quad(crystal_ball_normalized, lower_limit, upper_limit)\n",
    "print(result)  # This is now very close to 1 but stil not exactly 1"
   ]
  },
  {
   "cell_type": "markdown",
   "id": "da09c96f",
   "metadata": {},
   "source": [
    "$ $\n",
    "$ $"
   ]
  },
  {
   "cell_type": "markdown",
   "id": "19a54296",
   "metadata": {},
   "source": [
    "$ $\n",
    "$ $"
   ]
  }
 ],
 "metadata": {
  "kernelspec": {
   "display_name": "Python 3 (ipykernel)",
   "language": "python",
   "name": "python3"
  },
  "language_info": {
   "codemirror_mode": {
    "name": "ipython",
    "version": 3
   },
   "file_extension": ".py",
   "mimetype": "text/x-python",
   "name": "python",
   "nbconvert_exporter": "python",
   "pygments_lexer": "ipython3",
   "version": "3.9.13"
  }
 },
 "nbformat": 4,
 "nbformat_minor": 5
}
